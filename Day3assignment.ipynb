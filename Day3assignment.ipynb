{
  "nbformat": 4,
  "nbformat_minor": 0,
  "metadata": {
    "colab": {
      "name": "Untitled1.ipynb",
      "provenance": [],
      "authorship_tag": "ABX9TyOj0fD0AAAjfe9NFb10q0y3",
      "include_colab_link": true
    },
    "kernelspec": {
      "name": "python3",
      "display_name": "Python 3"
    }
  },
  "cells": [
    {
      "cell_type": "markdown",
      "metadata": {
        "id": "view-in-github",
        "colab_type": "text"
      },
      "source": [
        "<a href=\"https://colab.research.google.com/github/Lokesh1479/LetsUpgrade-AI-ML-/blob/master/Day3assignment.ipynb\" target=\"_parent\"><img src=\"https://colab.research.google.com/assets/colab-badge.svg\" alt=\"Open In Colab\"/></a>"
      ]
    },
    {
      "cell_type": "markdown",
      "metadata": {
        "id": "3LN4Y_NbbSy_",
        "colab_type": "text"
      },
      "source": [
        "AI-ML Day3 Assignment"
      ]
    },
    {
      "cell_type": "code",
      "metadata": {
        "id": "-Gs8H96Pbe6m",
        "colab_type": "code",
        "colab": {
          "base_uri": "https://localhost:8080/",
          "height": 34
        },
        "outputId": "c940ee42-cec5-45c5-b88a-70a7d2f423cc"
      },
      "source": [
        "#1\n",
        "\n",
        "x=4+3j\n",
        "y=2-2j\n",
        "print(x-y)"
      ],
      "execution_count": 31,
      "outputs": [
        {
          "output_type": "stream",
          "text": [
            "(2+5j)\n"
          ],
          "name": "stdout"
        }
      ]
    },
    {
      "cell_type": "code",
      "metadata": {
        "id": "S6k4s0gGc-sb",
        "colab_type": "code",
        "colab": {
          "base_uri": "https://localhost:8080/",
          "height": 52
        },
        "outputId": "9346e8ff-98b7-4e74-b26e-801d2f84a72b"
      },
      "source": [
        "#2\n",
        "a=int(input())\n",
        "res=a**(1/4)\n",
        "print(res)"
      ],
      "execution_count": 30,
      "outputs": [
        {
          "output_type": "stream",
          "text": [
            "16\n",
            "2.0\n"
          ],
          "name": "stdout"
        }
      ]
    },
    {
      "cell_type": "code",
      "metadata": {
        "id": "0UdZe9pJdn3C",
        "colab_type": "code",
        "colab": {
          "base_uri": "https://localhost:8080/",
          "height": 87
        },
        "outputId": "5043801b-fc4c-4bd2-f748-42b97feb0960"
      },
      "source": [
        "#3\n",
        "a=int(input())\n",
        "b=int(input())\n",
        "print(\"Before Swapping:\",a,b)\n",
        "temp=a\n",
        "a=b\n",
        "b=temp\n",
        "print(\"After swapping:\",a,b)"
      ],
      "execution_count": 29,
      "outputs": [
        {
          "output_type": "stream",
          "text": [
            "2\n",
            "3\n",
            "Before Swapping: 2 3\n",
            "After swapping: 3 2\n"
          ],
          "name": "stdout"
        }
      ]
    },
    {
      "cell_type": "code",
      "metadata": {
        "id": "Pq-dCb-deZg8",
        "colab_type": "code",
        "colab": {
          "base_uri": "https://localhost:8080/",
          "height": 87
        },
        "outputId": "d5b56197-512e-4e0e-97bf-ee776014f8cf"
      },
      "source": [
        "#4\n",
        "a=int(input())\n",
        "b=int(input())\n",
        "print(\"Before Swapping:\",a,b)\n",
        "a=a+b\n",
        "b=a-b\n",
        "a=a-b\n",
        "print(\"After swapping:\",a,b)"
      ],
      "execution_count": 28,
      "outputs": [
        {
          "output_type": "stream",
          "text": [
            "2\n",
            "3\n",
            "Before Swapping: 2 3\n",
            "After swapping: 3 2\n"
          ],
          "name": "stdout"
        }
      ]
    },
    {
      "cell_type": "code",
      "metadata": {
        "id": "AouneVg3fPlE",
        "colab_type": "code",
        "colab": {
          "base_uri": "https://localhost:8080/",
          "height": 70
        },
        "outputId": "4104517d-473c-4ac9-b4f4-58d8131d01d6"
      },
      "source": [
        "#5\n",
        "temp = float(input(\"enter temperature in fahrenheit:\"))\n",
        "\n",
        "K = 273.5 + ((temp - 32.0) * (5.0/9.0))\n",
        "print(\"Temperature in Kevin: \" ,K)\n",
        "celsius = (temp - 32) * 5 / 9\n",
        "print(\"Temperature in celsius: \" , celsius)"
      ],
      "execution_count": 27,
      "outputs": [
        {
          "output_type": "stream",
          "text": [
            "enter temperature in fahrenheit:99\n",
            "Temperature in Kevin:  310.72222222222223\n",
            "Temperature in celsius:  37.22222222222222\n"
          ],
          "name": "stdout"
        }
      ]
    },
    {
      "cell_type": "code",
      "metadata": {
        "id": "R9es3anxiofq",
        "colab_type": "code",
        "colab": {
          "base_uri": "https://localhost:8080/",
          "height": 175
        },
        "outputId": "f8d744fc-151f-4519-9a5e-b0351830f492"
      },
      "source": [
        "#6\n",
        "a=5\n",
        "print(type(a))\n",
        "b=3.3\n",
        "print(type(b))\n",
        "c='hello'\n",
        "print(type(c))\n",
        "y=True\n",
        "print(type(y))\n",
        "x=2+3j\n",
        "print(type(x))\n",
        "l=[1,2,'a',2.5]\n",
        "print(type(l))\n",
        "t=(2,4,5.1,'abc')\n",
        "print(type(t))\n",
        "di= {\"name\" : \"John\", \"age\" : 36}\n",
        "print(type(di))\n",
        "s={\"a\", \"b\", \"c\"}\n",
        "print(type(s))"
      ],
      "execution_count": 26,
      "outputs": [
        {
          "output_type": "stream",
          "text": [
            "<class 'int'>\n",
            "<class 'float'>\n",
            "<class 'str'>\n",
            "<class 'bool'>\n",
            "<class 'complex'>\n",
            "<class 'list'>\n",
            "<class 'tuple'>\n",
            "<class 'dict'>\n",
            "<class 'set'>\n"
          ],
          "name": "stdout"
        }
      ]
    }
  ]
}